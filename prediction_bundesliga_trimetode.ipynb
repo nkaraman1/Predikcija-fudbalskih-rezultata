{
 "cells": [
  {
   "cell_type": "code",
   "execution_count": 1,
   "id": "8ce79450",
   "metadata": {},
   "outputs": [],
   "source": [
    "# import required libraries\n",
    "\n",
    "import pandas as pd\n",
    "\n",
    "from sklearn.ensemble import RandomForestClassifier, AdaBoostClassifier\n",
    "from sklearn.metrics import accuracy_score, precision_score, recall_score, f1_score\n",
    "from sklearn.model_selection import GridSearchCV\n",
    "from xgboost import XGBClassifier"
   ]
  },
  {
   "cell_type": "code",
   "execution_count": 2,
   "id": "6c59a858",
   "metadata": {},
   "outputs": [],
   "source": [
    "import warnings\n",
    "warnings.filterwarnings('ignore')"
   ]
  },
  {
   "cell_type": "code",
   "execution_count": 3,
   "id": "ada81e97",
   "metadata": {},
   "outputs": [],
   "source": [
    "matches = pd.read_csv(\"matches_bundesliga_v2.csv\", index_col=0)"
   ]
  },
  {
   "cell_type": "code",
   "execution_count": 4,
   "id": "86c7a0ba",
   "metadata": {},
   "outputs": [
    {
     "data": {
      "text/plain": [
       "(3060, 30)"
      ]
     },
     "execution_count": 4,
     "metadata": {},
     "output_type": "execute_result"
    }
   ],
   "source": [
    "matches.shape"
   ]
  },
  {
   "cell_type": "code",
   "execution_count": 5,
   "id": "a1baa627",
   "metadata": {},
   "outputs": [],
   "source": [
    "pd.set_option('display.max_columns', None)"
   ]
  },
  {
   "cell_type": "code",
   "execution_count": 6,
   "id": "c0e9893d",
   "metadata": {},
   "outputs": [],
   "source": [
    "table = matches.head()"
   ]
  },
  {
   "cell_type": "code",
   "execution_count": 7,
   "id": "cfee4216",
   "metadata": {},
   "outputs": [
    {
     "data": {
      "text/plain": [
       "Bayern Munich          170\n",
       "Augsburg               170\n",
       "RB Leipzig             170\n",
       "Hertha BSC             170\n",
       "Freiburg               170\n",
       "Bayer Leverkusen       170\n",
       "Eintracht Frankfurt    170\n",
       "Wolfsburg              170\n",
       "Mainz 05               170\n",
       "Monchengladbach        170\n",
       "Hoffenheim             170\n",
       "Dortmund               170\n",
       "Schalke 04             136\n",
       "Stuttgart              136\n",
       "Werder Bremen          136\n",
       "Koln                   136\n",
       "Union Berlin           136\n",
       "Bochum                  68\n",
       "Arminia                 68\n",
       "Dusseldorf              68\n",
       "Greuther Furth          34\n",
       "Paderborn 07            34\n",
       "Hannover 96             34\n",
       "Nurnberg                34\n",
       "Name: team, dtype: int64"
      ]
     },
     "execution_count": 7,
     "metadata": {},
     "output_type": "execute_result"
    }
   ],
   "source": [
    "matches[\"team\"].value_counts()"
   ]
  },
  {
   "cell_type": "code",
   "execution_count": 8,
   "id": "8da12bf6",
   "metadata": {},
   "outputs": [
    {
     "data": {
      "text/plain": [
       "date               0\n",
       "time               0\n",
       "comp               0\n",
       "round              0\n",
       "day                0\n",
       "venue              0\n",
       "result             0\n",
       "gf                 0\n",
       "ga                 0\n",
       "opponent           0\n",
       "xg                 2\n",
       "xga                2\n",
       "poss               0\n",
       "attendance       744\n",
       "captain            0\n",
       "formation          0\n",
       "referee            0\n",
       "match report       0\n",
       "notes           3058\n",
       "sh                 0\n",
       "sot                0\n",
       "dist               3\n",
       "fk                 2\n",
       "pk                 0\n",
       "pkatt              0\n",
       "season             0\n",
       "team               0\n",
       "wwages            34\n",
       "awages            34\n",
       "age                0\n",
       "dtype: int64"
      ]
     },
     "execution_count": 8,
     "metadata": {},
     "output_type": "execute_result"
    }
   ],
   "source": [
    "matches.isna().sum()"
   ]
  },
  {
   "cell_type": "code",
   "execution_count": 9,
   "id": "0eb7bbcf",
   "metadata": {},
   "outputs": [
    {
     "data": {
      "text/plain": [
       "Matchweek 1     90\n",
       "Matchweek 26    90\n",
       "Matchweek 20    90\n",
       "Matchweek 21    90\n",
       "Matchweek 22    90\n",
       "Matchweek 23    90\n",
       "Matchweek 24    90\n",
       "Matchweek 25    90\n",
       "Matchweek 27    90\n",
       "Matchweek 2     90\n",
       "Matchweek 28    90\n",
       "Matchweek 29    90\n",
       "Matchweek 30    90\n",
       "Matchweek 31    90\n",
       "Matchweek 32    90\n",
       "Matchweek 33    90\n",
       "Matchweek 19    90\n",
       "Matchweek 18    90\n",
       "Matchweek 17    90\n",
       "Matchweek 16    90\n",
       "Matchweek 15    90\n",
       "Matchweek 14    90\n",
       "Matchweek 13    90\n",
       "Matchweek 12    90\n",
       "Matchweek 11    90\n",
       "Matchweek 10    90\n",
       "Matchweek 9     90\n",
       "Matchweek 8     90\n",
       "Matchweek 7     90\n",
       "Matchweek 6     90\n",
       "Matchweek 5     90\n",
       "Matchweek 4     90\n",
       "Matchweek 3     90\n",
       "Matchweek 34    90\n",
       "Name: round, dtype: int64"
      ]
     },
     "execution_count": 9,
     "metadata": {},
     "output_type": "execute_result"
    }
   ],
   "source": [
    "matches[\"round\"].value_counts()"
   ]
  },
  {
   "cell_type": "code",
   "execution_count": 10,
   "id": "aa1decbe",
   "metadata": {},
   "outputs": [],
   "source": [
    "del matches[\"comp\"]\n",
    "del matches[\"notes\"]"
   ]
  },
  {
   "cell_type": "code",
   "execution_count": 11,
   "id": "a21af569",
   "metadata": {},
   "outputs": [],
   "source": [
    "matches.loc[matches.attendance.isna()==True, 'attendance'] = round(matches.attendance.mean(), 0)"
   ]
  },
  {
   "cell_type": "code",
   "execution_count": 12,
   "id": "b8e1f9c0",
   "metadata": {},
   "outputs": [],
   "source": [
    "matches.loc[matches.dist.isna()==True, 'dist'] = round(matches.dist.mean(), 0)"
   ]
  },
  {
   "cell_type": "code",
   "execution_count": 13,
   "id": "dcc57464",
   "metadata": {},
   "outputs": [],
   "source": [
    "matches.loc[matches.wwages.isna()==True, 'wwages'] = round(matches.wwages.mean(), 0)"
   ]
  },
  {
   "cell_type": "code",
   "execution_count": 14,
   "id": "9573aba1",
   "metadata": {},
   "outputs": [],
   "source": [
    "matches.loc[matches.awages.isna()==True, 'awages'] = round(matches.awages.mean(), 0)"
   ]
  },
  {
   "cell_type": "code",
   "execution_count": 15,
   "id": "a19d45b4",
   "metadata": {},
   "outputs": [],
   "source": [
    "matches[\"target\"] = (matches[\"result\"] == \"W\").astype(\"int\")"
   ]
  },
  {
   "cell_type": "code",
   "execution_count": 16,
   "id": "9a9df7d6",
   "metadata": {},
   "outputs": [],
   "source": [
    "matches[\"date\"] = pd.to_datetime(matches[\"date\"])"
   ]
  },
  {
   "cell_type": "code",
   "execution_count": 17,
   "id": "b95cfdea",
   "metadata": {},
   "outputs": [],
   "source": [
    "matches[\"venue_code\"] = matches[\"venue\"].astype(\"category\").cat.codes"
   ]
  },
  {
   "cell_type": "code",
   "execution_count": 18,
   "id": "71e74096",
   "metadata": {},
   "outputs": [],
   "source": [
    "matches[\"opp_code\"] = matches[\"opponent\"].astype(\"category\").cat.codes"
   ]
  },
  {
   "cell_type": "code",
   "execution_count": 19,
   "id": "ed0449fb",
   "metadata": {},
   "outputs": [],
   "source": [
    "matches[\"hour\"] = matches[\"time\"].str.replace(\":.+\", \"\", regex=True).astype(\"int\")"
   ]
  },
  {
   "cell_type": "code",
   "execution_count": 20,
   "id": "9c106200",
   "metadata": {},
   "outputs": [],
   "source": [
    "matches[\"day_code\"] = matches[\"date\"].dt.dayofweek"
   ]
  },
  {
   "cell_type": "code",
   "execution_count": 21,
   "id": "6bbe8781",
   "metadata": {},
   "outputs": [],
   "source": [
    "matches[\"captain_code\"] = matches[\"captain\"].astype(\"category\").cat.codes\n",
    "matches[\"referee_code\"] = matches[\"referee\"].astype(\"category\").cat.codes"
   ]
  },
  {
   "cell_type": "code",
   "execution_count": 22,
   "id": "613f7ef6",
   "metadata": {},
   "outputs": [],
   "source": [
    "# matches[\"comp_code\"] = matches[\"comp\"].astype(\"category\").cat.codes"
   ]
  },
  {
   "cell_type": "code",
   "execution_count": 23,
   "id": "7d146903",
   "metadata": {},
   "outputs": [],
   "source": [
    "# matches[\"round_code\"] = matches[\"round\"].astype(\"category\").cat.codes"
   ]
  },
  {
   "cell_type": "code",
   "execution_count": 24,
   "id": "61ee1219",
   "metadata": {},
   "outputs": [],
   "source": [
    "matches[\"formation_code\"] = matches[\"formation\"].astype(\"category\").cat.codes"
   ]
  },
  {
   "cell_type": "code",
   "execution_count": 25,
   "id": "3aa4b675",
   "metadata": {},
   "outputs": [],
   "source": [
    "matches[\"age_int\"] = (round(matches[\"age\"], 0)).astype(\"int\")"
   ]
  },
  {
   "cell_type": "code",
   "execution_count": 26,
   "id": "281f2f4a",
   "metadata": {},
   "outputs": [],
   "source": [
    "def categorize_wwages(wwages):\n",
    "    if wwages > 1400000:\n",
    "        return 1\n",
    "    elif 500000 < wwages <= 1400000:\n",
    "        return 2\n",
    "    else:\n",
    "        return 3"
   ]
  },
  {
   "cell_type": "code",
   "execution_count": 27,
   "id": "8259f09e",
   "metadata": {},
   "outputs": [],
   "source": [
    "def categorize_awages(awages):\n",
    "    if awages > 100000000:\n",
    "        return 1\n",
    "    elif 3500000 < awages <= 100000000:\n",
    "        return 2\n",
    "    else:\n",
    "        return 3"
   ]
  },
  {
   "cell_type": "code",
   "execution_count": 28,
   "id": "f917cd35",
   "metadata": {},
   "outputs": [],
   "source": [
    "matches['wwages_category'] = matches['wwages'].apply(categorize_wwages)"
   ]
  },
  {
   "cell_type": "code",
   "execution_count": 29,
   "id": "b209a91a",
   "metadata": {},
   "outputs": [],
   "source": [
    "matches['awages_category'] = matches['awages'].apply(categorize_awages)"
   ]
  },
  {
   "cell_type": "code",
   "execution_count": 30,
   "id": "3eebc7c4",
   "metadata": {},
   "outputs": [],
   "source": [
    "predictors = [\"venue_code\", \"opp_code\", \"hour\", \"day_code\", \"captain_code\", \"referee_code\", \"formation_code\", \"age_int\", \"wwages_category\", \"awages_category\"]"
   ]
  },
  {
   "cell_type": "code",
   "execution_count": 39,
   "id": "c8f9c251",
   "metadata": {},
   "outputs": [],
   "source": [
    "train1 = matches[matches[\"date\"] < '2022-08-01']\n",
    "test1  = matches[matches[\"date\"] > '2022-08-01']\n",
    "train2 = matches[matches[\"date\"] < '2021-08-01']\n",
    "test2  = matches[matches[\"date\"] > '2021-08-01']\n",
    "train3 = matches[matches[\"date\"] < '2020-08-01']\n",
    "test3  = matches[matches[\"date\"] > '2020-08-01']\n",
    "train4 = matches[matches[\"date\"] < '2019-08-01']\n",
    "test4  = matches[matches[\"date\"] > '2019-08-01']"
   ]
  },
  {
   "cell_type": "code",
   "execution_count": 95,
   "id": "0d535286",
   "metadata": {},
   "outputs": [],
   "source": [
    "classifiers = [\n",
    "#     AdaBoostClassifier(learning_rate=1.544, n_estimators=52, random_state=42) -> 0.6894736842105263\n",
    "    \n",
    "#     AdaBoostClassifier(learning_rate=1.53, n_estimators=45, random_state=42) -> 0.6881578947368421\n",
    "\n",
    "#     AdaBoostClassifier(learning_rate=1.55, n_estimators=52, random_state=42) -> 0.6855263157894737\n",
    "    \n",
    "#     AdaBoostClassifier(learning_rate=1.5, n_estimators=46, random_state=42) -> 0.6789473684210526\n",
    "    \n",
    "#     RandomForestClassifier(n_estimators=53, min_samples_split=11, random_state=42, max_depth=9) -> 0.6710526315789473\n",
    "    \n",
    "#     min_samples_split=14, random_state=42, max_depth=13)\n",
    "#     min_samples_split=14, random_state=42, max_depth=14)    \n",
    "    \n",
    "#     AdaBoostClassifier(learning_rate=1.3164, n_estimators=61, random_state=42) -> 0.7072538860103627\n",
    "#     train = matches[matches[\"date\"] < '2023-01-15'],    test = matches[matches[\"date\"] > '2023-01-15']\n",
    "\n",
    "#     AdaBoostClassifier(learning_rate=1.3624, n_estimators=45, random_state=42) -> 0.7046632124352331\n",
    "#     train = matches[matches[\"date\"] < '2023-01-15'],    test = matches[matches[\"date\"] > '2023-01-15']\n",
    "    \n",
    "#     AdaBoostClassifier(learning_rate=1.364, n_estimators=45, random_state=42) -> 0.7020725388601037\n",
    "#     train = matches[matches[\"date\"] < '2023-01-15'],    test = matches[matches[\"date\"] > '2023-01-15']\n",
    "      \n",
    "    XGBClassifier(n_estimators=45, learning_rate=0.025, random_state=42),\n",
    "    XGBClassifier(n_estimators=46, learning_rate=0.025, random_state=42),\n",
    "    XGBClassifier(n_estimators=47, learning_rate=0.025, random_state=42),\n",
    "    XGBClassifier(n_estimators=48, learning_rate=0.025, random_state=42),\n",
    "    XGBClassifier(n_estimators=49, learning_rate=0.025, random_state=42),\n",
    "    XGBClassifier(n_estimators=50, learning_rate=0.025, random_state=42),\n",
    "    XGBClassifier(n_estimators=51, learning_rate=0.025, random_state=42),\n",
    "    XGBClassifier(n_estimators=52, learning_rate=0.025, random_state=42),\n",
    "    XGBClassifier(n_estimators=53, learning_rate=0.025, random_state=42),\n",
    "    XGBClassifier(n_estimators=54, learning_rate=0.025, random_state=42),\n",
    "    XGBClassifier(n_estimators=55, learning_rate=0.025, random_state=42),\n",
    "    XGBClassifier(n_estimators=56, learning_rate=0.025, random_state=42),\n",
    "    XGBClassifier(n_estimators=57, learning_rate=0.025, random_state=42),\n",
    "    XGBClassifier(n_estimators=58, learning_rate=0.025, random_state=42),\n",
    "    XGBClassifier(n_estimators=59, learning_rate=0.025, random_state=42),\n",
    "    XGBClassifier(n_estimators=60, learning_rate=0.025, random_state=42),\n",
    "    XGBClassifier(n_estimators=61, learning_rate=0.025, random_state=42),\n",
    "    XGBClassifier(n_estimators=62, learning_rate=0.025, random_state=42),\n",
    "    XGBClassifier(n_estimators=63, learning_rate=0.025, random_state=42),\n",
    "    XGBClassifier(n_estimators=64, learning_rate=0.025, random_state=42),\n",
    "    XGBClassifier(n_estimators=65, learning_rate=0.025, random_state=42),\n",
    "    XGBClassifier(n_estimators=66, learning_rate=0.025, random_state=42),\n",
    "    XGBClassifier(n_estimators=67, learning_rate=0.025, random_state=42),\n",
    "    XGBClassifier(n_estimators=68, learning_rate=0.025, random_state=42),\n",
    "    XGBClassifier(n_estimators=69, learning_rate=0.025, random_state=42),\n",
    "    XGBClassifier(n_estimators=70, learning_rate=0.025, random_state=42),\n",
    "    XGBClassifier(n_estimators=71, learning_rate=0.025, random_state=42),\n",
    "    XGBClassifier(n_estimators=72, learning_rate=0.025, random_state=42),\n",
    "    XGBClassifier(n_estimators=73, learning_rate=0.025, random_state=42),\n",
    "    XGBClassifier(n_estimators=74, learning_rate=0.025, random_state=42)    \n",
    "    \n",
    "#     RandomForestClassifier(max_depth=10, n_estimators=15, max_features=1),\n",
    "#     RandomForestClassifier(max_depth=12, n_estimators=20, max_features=1),\n",
    "#     MLPClassifier(alpha=1, max_iter=1000),\n",
    "#     MLPClassifier(alpha=1, max_iter=1100),\n",
    "#     MLPClassifier(alpha=1, max_iter=1200),\n",
    "#     AdaBoostClassifier(),\n",
    "#     GaussianNB(),\n",
    "#     QuadraticDiscriminantAnalysis()\n",
    "]"
   ]
  },
  {
   "cell_type": "code",
   "execution_count": 99,
   "id": "71f1be02",
   "metadata": {},
   "outputs": [
    {
     "name": "stdout",
     "output_type": "stream",
     "text": [
      "45 0.6482843137254902 0.5705128205128205\n",
      "46 0.6474673202614379 0.5663900414937759\n",
      "47 0.6486928104575164 0.5708245243128964\n",
      "48 0.6482843137254902 0.56875\n",
      "49 0.6495098039215687 0.5717255717255717\n",
      "50 0.6466503267973857 0.5635245901639344\n",
      "51 0.6466503267973857 0.5630081300813008\n",
      "52 0.6466503267973857 0.5625\n",
      "53 0.6454248366013072 0.5598377281947262\n",
      "54 0.6450163398692811 0.5587044534412956\n",
      "55 0.6450163398692811 0.5575396825396826\n",
      "56 0.6462418300653595 0.5606361829025845\n",
      "57 0.6466503267973857 0.5612648221343873\n",
      "58 0.6470588235294118 0.5614035087719298\n",
      "59 0.6470588235294118 0.5614035087719298\n",
      "60 0.6462418300653595 0.5585412667946257\n",
      "61 0.6458333333333334 0.5572519083969466\n",
      "62 0.6470588235294118 0.5611650485436893\n",
      "63 0.6446078431372549 0.5544933078393881\n",
      "64 0.6450163398692811 0.555984555984556\n",
      "65 0.6446078431372549 0.5551257253384912\n",
      "66 0.6429738562091504 0.5506692160611855\n",
      "67 0.6429738562091504 0.5508637236084453\n",
      "68 0.6397058823529411 0.5425330812854442\n",
      "69 0.641748366013072 0.5469924812030075\n",
      "70 0.6405228758169934 0.5444234404536862\n",
      "71 0.6397058823529411 0.5423728813559322\n",
      "72 0.639297385620915 0.5413533834586466\n",
      "73 0.6388888888888888 0.5403377110694184\n",
      "74 0.6380718954248366 0.5383177570093458\n"
     ]
    }
   ],
   "source": [
    "for clf in classifiers:\n",
    "        clf.fit(train4[predictors], train4[\"target\"])\n",
    "        accuracy = accuracy_score(test4[\"target\"], clf.predict(test4[predictors]))\n",
    "        precision = precision_score(test4[\"target\"], clf.predict(test4[predictors]))\n",
    "        print(clf.n_estimators, accuracy, precision)"
   ]
  },
  {
   "cell_type": "code",
   "execution_count": 127,
   "id": "4ed606d9",
   "metadata": {},
   "outputs": [],
   "source": [
    "predictors = ['Random Forest', 'AdaBoost', 'XGBoost']"
   ]
  },
  {
   "cell_type": "code",
   "execution_count": 128,
   "id": "2c9ea36f",
   "metadata": {},
   "outputs": [],
   "source": [
    "testsets = ['1:4', '2:3', '3:2', '4:1']"
   ]
  },
  {
   "cell_type": "code",
   "execution_count": 129,
   "id": "a4a4ca81",
   "metadata": {},
   "outputs": [],
   "source": [
    "precisionsrfa = [0.7021276595744681, 0.6549707602339181, 0.6523297491039427, 0.6057906458797327]"
   ]
  },
  {
   "cell_type": "code",
   "execution_count": 130,
   "id": "4e01b15f",
   "metadata": {},
   "outputs": [],
   "source": [
    "precisionsada = [0.6153846153846154, 0.5950704225352113, 0.5868421052631579, 0.5684039087947883]"
   ]
  },
  {
   "cell_type": "code",
   "execution_count": 131,
   "id": "6febdefe",
   "metadata": {},
   "outputs": [],
   "source": [
    "precisionsxgb = [0.6542056074766355, 0.6497175141242938, 0.594059405940594, 0.5717255717255717]"
   ]
  },
  {
   "cell_type": "code",
   "execution_count": 132,
   "id": "f8038c1b",
   "metadata": {},
   "outputs": [],
   "source": [
    "accuraciesrfa = [0.684640522875817, 0.6642156862745098, 0.6710239651416122, 0.6601307189542484]"
   ]
  },
  {
   "cell_type": "code",
   "execution_count": 133,
   "id": "34df85d9",
   "metadata": {},
   "outputs": [],
   "source": [
    "accuraciesada = [0.6764705882352942, 0.6650326797385621, 0.6606753812636166, 0.6556372549019608]"
   ]
  },
  {
   "cell_type": "code",
   "execution_count": 134,
   "id": "cf330eef",
   "metadata": {},
   "outputs": [],
   "source": [
    "accuraciesxgb = [0.6764705882352942, 0.6642156862745098, 0.6557734204793029, 0.6495098039215687]"
   ]
  },
  {
   "cell_type": "code",
   "execution_count": 139,
   "id": "f089028a",
   "metadata": {},
   "outputs": [
    {
     "data": {
      "image/png": "[encoded data removed]",
      "text/plain": [
       "<Figure size 640x480 with 1 Axes>"
      ]
     },
     "metadata": {},
     "output_type": "display_data"
    },
    {
     "data": {
      "image/png": "[encoded data removed]",
      "text/plain": [
       "<Figure size 640x480 with 1 Axes>"
      ]
     },
     "metadata": {},
     "output_type": "display_data"
    }
   ],
   "source": [
    "import numpy as np\n",
    "import matplotlib.pyplot as plt\n",
    "\n",
    "# Data\n",
    "predictors = ['Random Forest', 'AdaBoost', 'XGBoost']\n",
    "testsets = ['1:4', '2:3', '3:2', '4:1']\n",
    "precisionsrfa = [0.7021276595744681, 0.6549707602339181, 0.6523297491039427, 0.6057906458797327]\n",
    "precisionsada = [0.6153846153846154, 0.5950704225352113, 0.5868421052631579, 0.5684039087947883]\n",
    "precisionsxgb = [0.6542056074766355, 0.6497175141242938, 0.594059405940594, 0.5717255717255717]\n",
    "accuraciesrfa = [0.684640522875817, 0.6642156862745098, 0.6710239651416122, 0.6601307189542484]\n",
    "accuraciesada = [0.6764705882352942, 0.6650326797385621, 0.6606753812636166, 0.6556372549019608]\n",
    "accuraciesxgb = [0.6764705882352942, 0.6642156862745098, 0.6557734204793029, 0.6495098039215687]\n",
    "\n",
    "# Set the width of the bars\n",
    "bar_width = 0.2\n",
    "\n",
    "# Set the positions of the bars on the x-axis\n",
    "r1 = np.arange(len(testsets))\n",
    "r2 = [x + bar_width for x in r1]\n",
    "r3 = [x + bar_width for x in r2]\n",
    "\n",
    "# Plot precision bars\n",
    "plt.bar(r1, precisionsrfa, color='b', width=bar_width, edgecolor='white', label=predictors[0])\n",
    "plt.bar(r2, precisionsada, color='g', width=bar_width, edgecolor='white', label=predictors[1])\n",
    "plt.bar(r3, precisionsxgb, color='r', width=bar_width, edgecolor='white', label=predictors[2])\n",
    "\n",
    "# Add x-axis labels and title\n",
    "plt.xlabel('Test skupovi')\n",
    "plt.ylabel('Preciznost')\n",
    "plt.title('Analiza preciznosti modela predviđanja za različite test skupove')\n",
    "\n",
    "# Add y-axis limits\n",
    "plt.ylim(0, 1)\n",
    "\n",
    "# Add test set labels to the x-axis\n",
    "plt.xticks([r + bar_width for r in range(len(testsets))], testsets)\n",
    "\n",
    "# Add a legend\n",
    "plt.legend(loc='lower right')\n",
    "\n",
    "# Show the plot\n",
    "plt.show()\n",
    "\n",
    "\n",
    "# Plot accuracy bars\n",
    "plt.bar(r1, accuraciesrfa, color='b', width=bar_width, edgecolor='white', label=predictors[0])\n",
    "plt.bar(r2, accuraciesada, color='g', width=bar_width, edgecolor='white', label=predictors[1])\n",
    "plt.bar(r3, accuraciesxgb, color='r', width=bar_width, edgecolor='white', label=predictors[2])\n",
    "\n",
    "# Add x-axis labels and title\n",
    "plt.xlabel('Test skupovi')\n",
    "plt.ylabel('Tačnost')\n",
    "plt.title('Analiza tačnosti modela predviđanja za različite test skupove')\n",
    "\n",
    "# Add y-axis limits\n",
    "plt.ylim(0, 1)\n",
    "\n",
    "# Add test set labels to the x-axis\n",
    "plt.xticks([r + bar_width for r in range(len(testsets))], testsets)\n",
    "\n",
    "# Add a legend\n",
    "plt.legend(loc='lower right')\n",
    "\n",
    "# Show the plot\n",
    "plt.show()\n"
   ]
  },
  {
   "cell_type": "code",
   "execution_count": null,
   "id": "9e087734",
   "metadata": {},
   "outputs": [],
   "source": []
  }
 ],
 "metadata": {
  "kernelspec": {
   "display_name": "Python 3 (ipykernel)",
   "language": "python",
   "name": "python3"
  },
  "language_info": {
   "codemirror_mode": {
    "name": "ipython",
    "version": 3
   },
   "file_extension": ".py",
   "mimetype": "text/x-python",
   "name": "python",
   "nbconvert_exporter": "python",
   "pygments_lexer": "ipython3",
   "version": "3.9.13"
  }
 },
 "nbformat": 4,
 "nbformat_minor": 5
}
